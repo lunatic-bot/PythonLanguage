{
 "cells": [
  {
   "cell_type": "code",
   "execution_count": 1,
   "id": "09401368",
   "metadata": {},
   "outputs": [],
   "source": [
    "import json\n"
   ]
  },
  {
   "cell_type": "code",
   "execution_count": 2,
   "id": "9117fcc4",
   "metadata": {},
   "outputs": [
    {
     "name": "stdout",
     "output_type": "stream",
     "text": [
      "Atal\n",
      "<class 'dict'>\n"
     ]
    }
   ],
   "source": [
    "# JSON string\n",
    "person_json = '{\"name\": \"Atal\", \"age\": 29, \"city\": \"Lucknow\"}'\n",
    "\n",
    "# parse into Python dict\n",
    "person_dict = json.loads(person_json)\n",
    "\n",
    "print(person_dict[\"name\"])   # Atal\n",
    "print(type(person_dict))     # <class 'dict'>\n"
   ]
  },
  {
   "cell_type": "code",
   "execution_count": 4,
   "id": "cb7b2449",
   "metadata": {},
   "outputs": [
    {
     "name": "stdout",
     "output_type": "stream",
     "text": [
      "{\"name\": \"Atal\", \"age\": 29, \"city\": \"Lucknow\"}\n",
      "<class 'str'>\n"
     ]
    }
   ],
   "source": [
    "# Python dictionary\n",
    "person_dict = {\"name\": \"Atal\", \"age\": 29, \"city\": \"Lucknow\"}\n",
    "\n",
    "# convert to JSON string\n",
    "person_json = json.dumps(person_dict)\n",
    "\n",
    "print(person_json)           # {\"name\": \"Atal\", \"age\": 29, \"city\": \"Lucknow\"}\n",
    "print(type(person_json))     # <class 'str'>\n"
   ]
  },
  {
   "cell_type": "code",
   "execution_count": 6,
   "id": "644a7e6a",
   "metadata": {},
   "outputs": [],
   "source": [
    "students = [\n",
    "    {\"name\": \"Atal\", \"age\": 29},\n",
    "    {\"name\": \"Ravi\", \"age\": 25}\n",
    "]\n",
    "\n",
    "with open(\"students.json\", \"w\") as f:\n",
    "    json.dump(students, f, indent=2)"
   ]
  },
  {
   "cell_type": "code",
   "execution_count": 8,
   "id": "22b7c2f7",
   "metadata": {},
   "outputs": [
    {
     "name": "stdout",
     "output_type": "stream",
     "text": [
      "[{'name': 'Atal', 'age': 29}, {'name': 'Ravi', 'age': 25}]\n"
     ]
    }
   ],
   "source": [
    "import json\n",
    "\n",
    "# read from file\n",
    "with open(\"students.json\", \"r\") as f:\n",
    "    data = json.load(f)\n",
    "\n",
    "print(data)\n",
    "# print(data[\"name\"])\n"
   ]
  },
  {
   "cell_type": "code",
   "execution_count": null,
   "id": "19966eb3",
   "metadata": {},
   "outputs": [],
   "source": []
  }
 ],
 "metadata": {
  "kernelspec": {
   "display_name": "Python 3",
   "language": "python",
   "name": "python3"
  },
  "language_info": {
   "codemirror_mode": {
    "name": "ipython",
    "version": 3
   },
   "file_extension": ".py",
   "mimetype": "text/x-python",
   "name": "python",
   "nbconvert_exporter": "python",
   "pygments_lexer": "ipython3",
   "version": "3.11.1"
  }
 },
 "nbformat": 4,
 "nbformat_minor": 5
}
