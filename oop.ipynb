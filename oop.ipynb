{
 "cells": [
  {
   "cell_type": "markdown",
   "id": "8fdb58bd",
   "metadata": {},
   "source": [
    "##### class and object"
   ]
  },
  {
   "cell_type": "code",
   "execution_count": 1,
   "id": "7d91fc74",
   "metadata": {},
   "outputs": [
    {
     "name": "stdout",
     "output_type": "stream",
     "text": [
      "Toyota Corolla is driving.\n"
     ]
    }
   ],
   "source": [
    "# Define a class\n",
    "class Car:\n",
    "    def __init__(self, brand, model):\n",
    "        self.brand = brand\n",
    "        self.model = model\n",
    "\n",
    "    def drive(self):\n",
    "        print(f\"{self.brand} {self.model} is driving.\")\n",
    "\n",
    "# Create object (instance)\n",
    "my_car = Car(\"Toyota\", \"Corolla\")\n",
    "my_car.drive()   # Toyota Corolla is driving \n",
    "\n",
    "\n",
    "# __init__ is the constructor → called automatically when you create an object.\n",
    "# self refers to the current object.\n"
   ]
  },
  {
   "cell_type": "markdown",
   "id": "c2eeced6",
   "metadata": {},
   "source": [
    "##### Attributes (Instance vs Class)"
   ]
  },
  {
   "cell_type": "code",
   "execution_count": 6,
   "id": "eefd8ff7",
   "metadata": {},
   "outputs": [
    {
     "name": "stdout",
     "output_type": "stream",
     "text": [
      "Tommy Canine\n",
      "Bruno Canine\n"
     ]
    }
   ],
   "source": [
    "class Dog:\n",
    "    species = \"Canine\"   # class attribute (shared by all dogs)\n",
    "\n",
    "    def __init__(self, name):\n",
    "        self.name = name  # instance attribute\n",
    "\n",
    "dog1 = Dog(\"Tommy\")\n",
    "dog2 = Dog(\"Bruno\")\n",
    "\n",
    "print(dog1.name, dog1.species)  # Tommy Canine\n",
    "print(dog2.name, dog2.species)  # Bruno Canine"
   ]
  },
  {
   "cell_type": "markdown",
   "id": "a63d0039",
   "metadata": {},
   "source": [
    "##### Methods\n",
    "\n",
    "- Instance methods → work with object (self)\n",
    "\n",
    "- Class methods → work with class (cls)\n",
    "\n",
    "- Static methods → don’t depend on class or object"
   ]
  },
  {
   "cell_type": "code",
   "execution_count": null,
   "id": "63415bf1",
   "metadata": {},
   "outputs": [
    {
     "name": "stdout",
     "output_type": "stream",
     "text": [
      "16\n",
      "27\n",
      "12\n",
      "27\n",
      "8\n"
     ]
    }
   ],
   "source": [
    "class MathOps:\n",
    "    def square(self, x):       # instance method\n",
    "        return x * x\n",
    "\n",
    "    @classmethod\n",
    "    def cube(cls, x):          # class method\n",
    "        return x ** 3\n",
    "\n",
    "    @staticmethod\n",
    "    def add(a, b):             # static method\n",
    "        return a + b\n",
    "\n",
    "m = MathOps()\n",
    "print(m.square(4))      # 16\n",
    "print(MathOps.cube(3))  # 27\n",
    "print(MathOps.add(5, 7))# 12\n",
    "\n",
    "# print(m.cube(3)) \n",
    "# print(m.add(3, 5)) "
   ]
  },
  {
   "cell_type": "code",
   "execution_count": null,
   "id": "a228ed5c",
   "metadata": {},
   "outputs": [],
   "source": []
  },
  {
   "cell_type": "markdown",
   "id": "56a9222d",
   "metadata": {},
   "source": [
    "##### Inheritance"
   ]
  },
  {
   "cell_type": "code",
   "execution_count": 10,
   "id": "6e282a46",
   "metadata": {},
   "outputs": [
    {
     "name": "stdout",
     "output_type": "stream",
     "text": [
      "Woof \n"
     ]
    }
   ],
   "source": [
    "class Animal:\n",
    "    def speak(self):\n",
    "        print(\"Animal speaks\")\n",
    "\n",
    "class Dog(Animal):\n",
    "    def speak(self):    # overriding parent method\n",
    "        print(\"Woof \")\n",
    "\n",
    "d = Dog()\n",
    "d.speak()   # Woof \n"
   ]
  },
  {
   "cell_type": "markdown",
   "id": "d9254a7b",
   "metadata": {},
   "source": [
    "##### Encapsulation (Private Variables)\n",
    "\n",
    "In Python, prefix _ or __ for private/protected:"
   ]
  },
  {
   "cell_type": "code",
   "execution_count": 15,
   "id": "07e2c8ab",
   "metadata": {},
   "outputs": [
    {
     "name": "stdout",
     "output_type": "stream",
     "text": [
      "1500\n"
     ]
    }
   ],
   "source": [
    "class BankAccount:\n",
    "    def __init__(self, balance):\n",
    "        self.__balance = balance  # private variable\n",
    "\n",
    "    def deposit(self, amount):\n",
    "        self.__balance += amount\n",
    "\n",
    "    def get_balance(self):\n",
    "        return self.__balance\n",
    "\n",
    "acc = BankAccount(1000)\n",
    "acc.deposit(500)\n",
    "print(acc.get_balance())  # 1500\n",
    "# print(acc.__balance)  #AttributeError\n"
   ]
  },
  {
   "cell_type": "markdown",
   "id": "3781df9c",
   "metadata": {},
   "source": [
    "##### Polymorphism\n",
    "\n",
    "Different classes can have same method name but act differently."
   ]
  },
  {
   "cell_type": "code",
   "execution_count": 16,
   "id": "a4350f12",
   "metadata": {},
   "outputs": [
    {
     "name": "stdout",
     "output_type": "stream",
     "text": [
      "Chirp \n",
      "Meow \n"
     ]
    }
   ],
   "source": [
    "class Bird:\n",
    "    def sound(self): print(\"Chirp \")\n",
    "\n",
    "class Cat:\n",
    "    def sound(self): print(\"Meow \")\n",
    "\n",
    "for animal in [Bird(), Cat()]:\n",
    "    animal.sound()\n"
   ]
  },
  {
   "cell_type": "markdown",
   "id": "99bd5fe8",
   "metadata": {},
   "source": [
    "##### Magic / Dunder Methods (__str__, __len__, etc.)"
   ]
  },
  {
   "cell_type": "code",
   "execution_count": 18,
   "id": "5a33bf68",
   "metadata": {},
   "outputs": [
    {
     "name": "stdout",
     "output_type": "stream",
     "text": [
      " Python OOP\n",
      "350\n"
     ]
    }
   ],
   "source": [
    "class Book:\n",
    "    def __init__(self, title, pages):\n",
    "        self.title = title\n",
    "        self.pages = pages\n",
    "\n",
    "    def __str__(self):   # when print()\n",
    "        return f\" {self.title}\"\n",
    "\n",
    "    def __len__(self):   # when len()\n",
    "        return self.pages\n",
    "\n",
    "b = Book(\"Python OOP\", 350)\n",
    "print(b)          #  Python OOP\n",
    "print(len(b))     # 350\n"
   ]
  },
  {
   "cell_type": "code",
   "execution_count": null,
   "id": "58208afb",
   "metadata": {},
   "outputs": [],
   "source": []
  },
  {
   "cell_type": "code",
   "execution_count": null,
   "id": "dc45c603",
   "metadata": {},
   "outputs": [],
   "source": []
  },
  {
   "cell_type": "code",
   "execution_count": null,
   "id": "9f1b97d9",
   "metadata": {},
   "outputs": [],
   "source": []
  },
  {
   "cell_type": "code",
   "execution_count": null,
   "id": "6072ef09",
   "metadata": {},
   "outputs": [],
   "source": []
  },
  {
   "cell_type": "code",
   "execution_count": null,
   "id": "4ab11711",
   "metadata": {},
   "outputs": [],
   "source": []
  }
 ],
 "metadata": {
  "kernelspec": {
   "display_name": "Python 3",
   "language": "python",
   "name": "python3"
  },
  "language_info": {
   "codemirror_mode": {
    "name": "ipython",
    "version": 3
   },
   "file_extension": ".py",
   "mimetype": "text/x-python",
   "name": "python",
   "nbconvert_exporter": "python",
   "pygments_lexer": "ipython3",
   "version": "3.11.1"
  }
 },
 "nbformat": 4,
 "nbformat_minor": 5
}
